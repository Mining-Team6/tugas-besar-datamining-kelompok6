{
 "cells": [
  {
   "cell_type": "markdown",
   "id": "0bb153cf",
   "metadata": {},
   "source": [
    "🧹 Preprocessing\n",
    "Notebook ini digunakan untuk preprocessing data sebelum pemodelan.\n",
    "\n",
    "Langkah yang disarankan:\n",
    "- Load dataset\n",
    "- Cek dan tangani missing value\n",
    "- Encode variabel kategorikal\n",
    "- Normalisasi atau standarisasi\n"
   ]
  }
 ],
 "metadata": {
  "language_info": {
   "name": "python"
  }
 },
 "nbformat": 4,
 "nbformat_minor": 5
}
