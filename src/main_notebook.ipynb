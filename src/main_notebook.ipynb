{
 "cells": [
  {
   "cell_type": "markdown",
   "metadata": {},
   "source": [
    "# 🔁 Main Pipeline – Jupyter Notebook Version\n",
    "Notebook ini merupakan versi interaktif dari `main.py`, dan digunakan untuk menjalankan pipeline data mining end-to-end."
   ]
  },
  {
   "cell_type": "code",
   "execution_count": null,
   "metadata": {},
   "outputs": [],
   "source": [
    "# Menambahkan path agar bisa mengimpor modul dari folder src/\n",
    "import sys\n",
    "sys.path.append(\"../src\")"
   ]
  },
  {
   "cell_type": "code",
   "execution_count": null,
   "metadata": {},
   "outputs": [],
   "source": [
    "# Import fungsi dari modul yang telah dibuat\n",
    "from data_loader import load_csv\n",
    "from model import train_model\n",
    "from utils import print_classification_report, plot_confusion_matrix"
   ]
  },
  {
   "cell_type": "code",
   "execution_count": null,
   "metadata": {},
   "outputs": [],
   "source": [
    "# Load data mentah\n",
    "df = load_csv(\"SCMS_Delivery_History_Dataset.csv\", processed=False)\n",
    "df.head()"
   ]
  },
  {
   "cell_type": "code",
   "execution_count": null,
   "metadata": {},
   "outputs": [],
   "source": [
    "# Preprocessing sederhana: drop missing values\n",
    "df = df.dropna()\n",
    "\n",
    "# Cek kolom target\n",
    "if \"Late_delivery\" not in df.columns:\n",
    "    raise ValueError(\"Kolom target 'Late_delivery' tidak ditemukan.\")"
   ]
  },
  {
   "cell_type": "code",
   "execution_count": null,
   "metadata": {},
   "outputs": [],
   "source": [
    "# Pisahkan fitur dan target\n",
    "X = df.drop(\"Late_delivery\", axis=1)\n",
    "y = df[\"Late_delivery\"]"
   ]
  },
  {
   "cell_type": "code",
   "execution_count": null,
   "metadata": {},
   "outputs": [],
   "source": [
    "# Latih model dan prediksi\n",
    "model, y_test, y_pred = train_model(X, y)"
   ]
  },
  {
   "cell_type": "code",
   "execution_count": null,
   "metadata": {},
   "outputs": [],
   "source": [
    "# Evaluasi model\n",
    "print_classification_report(y_test, y_pred)\n",
    "plot_confusion_matrix(y_test, y_pred, labels=[0, 1])"
   ]
  }
 ],
 "metadata": {
  "kernelspec": {
   "display_name": "Python 3",
   "language": "python",
   "name": "python3"
  },
  "language_info": {
   "name": "python",
   "version": "3.8"
  }
 },
 "nbformat": 4,
 "nbformat_minor": 5
}
